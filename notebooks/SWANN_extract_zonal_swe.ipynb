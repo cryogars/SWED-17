{
 "cells": [
  {
   "cell_type": "code",
   "execution_count": null,
   "id": "27b54c4a-05cc-4292-8676-3e9d3e4d3273",
   "metadata": {},
   "outputs": [],
   "source": [
    "from nb_shared import *"
   ]
  },
  {
   "cell_type": "markdown",
   "id": "1498c828-ad71-4423-b24d-ff845b65d40e",
   "metadata": {},
   "source": [
    "## Cluster for batch processing"
   ]
  },
  {
   "cell_type": "code",
   "execution_count": null,
   "id": "9a11149f-a237-45d3-a32f-580c62df7bea",
   "metadata": {
    "editable": true,
    "scrolled": true,
    "slideshow": {
     "slide_type": ""
    },
    "tags": []
   },
   "outputs": [],
   "source": [
    "cluster = start_cluster(n_workers=20, local=False)"
   ]
  },
  {
   "cell_type": "markdown",
   "id": "74d4ae52-3c34-4c03-8ecd-46499e8e7d89",
   "metadata": {},
   "source": [
    "## DB to store SWANN zonal values"
   ]
  },
  {
   "cell_type": "code",
   "execution_count": null,
   "id": "54e50428-459c-4034-ae4f-cf309149358d",
   "metadata": {},
   "outputs": [],
   "source": [
    "zone_db = ZoneDB(DB_CONNECTION_INFO)"
   ]
  },
  {
   "cell_type": "markdown",
   "id": "5d8e6ec1-d2ec-4e04-a16b-00c98d5d95a8",
   "metadata": {},
   "source": [
    "## Target Zones"
   ]
  },
  {
   "cell_type": "code",
   "execution_count": null,
   "id": "5537915f-6d93-4b04-a1d3-0edc25a0c584",
   "metadata": {},
   "outputs": [],
   "source": [
    "target_ch5ids = [\n",
    "    'ANBC2',\n",
    "    'RCYC2',\n",
    "    'ALEC2',\n",
    "    'ENMC2',\n",
    "    'WBRW4',\n",
    "    'BPPA3',\n",
    "    'OAWU1'\n",
    "]"
   ]
  },
  {
   "cell_type": "code",
   "execution_count": null,
   "id": "b1aa4ae0-c1f1-49b3-971a-1063c4061b9a",
   "metadata": {},
   "outputs": [],
   "source": [
    "target_zones = zone_db.zone_in_ch5_ids(target_ch5ids)"
   ]
  },
  {
   "cell_type": "markdown",
   "id": "274bab58-b3f2-4533-97e5-a509d9b2a9cd",
   "metadata": {},
   "source": [
    "## SWANN NetCDF files"
   ]
  },
  {
   "cell_type": "code",
   "execution_count": null,
   "id": "f4a44062-a864-4307-ac08-2cd518dbed95",
   "metadata": {},
   "outputs": [],
   "source": [
    "swann_xr = xr.open_mfdataset(SWANN_HOME_DIR + '*.nc', parallel=True)"
   ]
  },
  {
   "cell_type": "markdown",
   "id": "18f0ab46-7a03-4cab-afab-332b37ba873e",
   "metadata": {},
   "source": [
    "## Extract SWE for each year from the NetCDF files"
   ]
  },
  {
   "cell_type": "code",
   "execution_count": null,
   "id": "c46e0952-35e3-4969-ac19-c62defc75b72",
   "metadata": {},
   "outputs": [],
   "source": [
    "swann_swe = {\n",
    "    cz.zone: swann_swe_for_zone(swann_xr, cz.zone, zone_db) for cz in target_zones\n",
    "}"
   ]
  },
  {
   "cell_type": "code",
   "execution_count": null,
   "id": "dcc76bed-fe4f-40bc-a681-894aa4ef8e59",
   "metadata": {},
   "outputs": [],
   "source": [
    "cluster.shutdown()"
   ]
  },
  {
   "cell_type": "markdown",
   "id": "4c042b8b-de1a-443f-9c45-da416716d58d",
   "metadata": {},
   "source": [
    "## Prepare dataframes and write to DB"
   ]
  },
  {
   "cell_type": "code",
   "execution_count": null,
   "id": "e3f9b6d0-e20d-41ba-8188-b3f4ee9625d0",
   "metadata": {
    "scrolled": true
   },
   "outputs": [],
   "source": [
    "for czone in target_zones:\n",
    "    # Prepare DB to match table columns\n",
    "    swann_swe[czone.zone].rename(columns={'SWE': 'swe'}, inplace=True)\n",
    "    swann_swe[czone.zone].index.names = ['z_date']\n",
    "    swann_swe[czone.zone]['cbrfc_zone_id'] = czone.gid\n",
    "    # Write\n",
    "    zone_db.write(swann_swe[czone.zone], 'swann_zonal_swe')"
   ]
  }
 ],
 "metadata": {
  "kernelspec": {
   "display_name": "snow-viz",
   "language": "python",
   "name": "snow-viz"
  },
  "language_info": {
   "codemirror_mode": {
    "name": "ipython",
    "version": 3
   },
   "file_extension": ".py",
   "mimetype": "text/x-python",
   "name": "python",
   "nbconvert_exporter": "python",
   "pygments_lexer": "ipython3",
   "version": "3.12.4"
  }
 },
 "nbformat": 4,
 "nbformat_minor": 5
}
