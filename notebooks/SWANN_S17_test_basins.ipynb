{
 "cells": [
  {
   "cell_type": "code",
   "execution_count": null,
   "id": "a2069896-39e0-420a-9123-8468330b3b25",
   "metadata": {},
   "outputs": [],
   "source": [
    "from nb_shared import *\n",
    "\n",
    "import math"
   ]
  },
  {
   "cell_type": "code",
   "execution_count": null,
   "id": "306983a4-ba27-4e7a-818c-cbd15549d565",
   "metadata": {},
   "outputs": [],
   "source": [
    "snow17_db = SweDB(SNOW_17_DB_CONNECTION)\n",
    "zone_infos = CBRFCZone(DB_CONNECTION_INFO)\n",
    "swann_data = SWANNZonalSWE(DB_CONNECTION_INFO)"
   ]
  },
  {
   "cell_type": "markdown",
   "id": "5d8e6ec1-d2ec-4e04-a16b-00c98d5d95a8",
   "metadata": {},
   "source": [
    "## Target Zones"
   ]
  },
  {
   "cell_type": "code",
   "execution_count": null,
   "id": "5537915f-6d93-4b04-a1d3-0edc25a0c584",
   "metadata": {},
   "outputs": [],
   "source": [
    "target_ch5ids = [\n",
    "    'ANBC2',\n",
    "    'RCYC2',\n",
    "    'ALEC2',\n",
    "    'ENMC2',\n",
    "    'WBRW4',\n",
    "    'BPPA3',\n",
    "    'OAWU1'\n",
    "]"
   ]
  },
  {
   "cell_type": "code",
   "execution_count": null,
   "id": "b1aa4ae0-c1f1-49b3-971a-1063c4061b9a",
   "metadata": {},
   "outputs": [],
   "source": [
    "target_zones = zone_infos.from_ch5_ids(target_ch5ids)"
   ]
  },
  {
   "cell_type": "markdown",
   "id": "18f0ab46-7a03-4cab-afab-332b37ba873e",
   "metadata": {},
   "source": [
    "# Get SWE for each year\n",
    "\n",
    "## Snow-17 SWE"
   ]
  },
  {
   "cell_type": "code",
   "execution_count": null,
   "id": "042c77ea-046d-4584-9400-d2b99e4274c5",
   "metadata": {},
   "outputs": [],
   "source": [
    "snow17_swe = {\n",
    "    cz.zone: snow17_db.for_zone(segid=cz.ch5_id + 'H', opid=cz.zone) for cz in target_zones\n",
    "}"
   ]
  },
  {
   "cell_type": "markdown",
   "id": "274bab58-b3f2-4533-97e5-a509d9b2a9cd",
   "metadata": {},
   "source": [
    "## SWANN for CBRFC zone"
   ]
  },
  {
   "cell_type": "code",
   "execution_count": null,
   "id": "c46e0952-35e3-4969-ac19-c62defc75b72",
   "metadata": {},
   "outputs": [],
   "source": [
    "swann_swe = {\n",
    "    cz.zone: swann_data.for_zone(cz.gid) for cz in target_zones\n",
    "}"
   ]
  },
  {
   "cell_type": "code",
   "execution_count": null,
   "id": "d862652c-a2fe-45f1-9c2c-0f0690237d79",
   "metadata": {},
   "outputs": [],
   "source": [
    "def plot_zone(zones):\n",
    "    fig, (ax1, ax2) = plt.subplots(2, 1, dpi=300, sharex=True, figsize=(12,5))\n",
    "    fig.subplots_adjust(hspace=0)\n",
    "    colors = ['cadetblue', 'goldenrod', 'crimson']\n",
    "\n",
    "    SWE_col = 'SWE (mm)'\n",
    "    max_y = 0\n",
    "\n",
    "    for index, zone in enumerate(zones):\n",
    "        s17 = snow17_swe[zone].loc['1999-10-01':'2020-07-31']\n",
    "        swann = swann_swe[zone].loc['1999-10-01':'2020-07-31']\n",
    "        diff = s17[SWE_col] - swann['swe']\n",
    "        \n",
    "        ax1.plot(\n",
    "            s17.index, s17['SWE (mm)'], label=f'{zone}', color=colors[index], alpha=0.6,\n",
    "        )\n",
    "        # ax.plot(\n",
    "        #     swann.index, swann[zone_name + '_SWANN'], \n",
    "        #     label='UA SWE', ls=(0, (5, 1)), lw=0.8, color='goldenrod'\n",
    "        # )\n",
    "        ax2.plot(\n",
    "            s17.index, diff, label=f'{zone}', lw=0.9, color=colors[index], alpha=0.7,\n",
    "        )\n",
    "\n",
    "        max_swe = math.ceil(s17[SWE_col].max())\n",
    "        max_y = max_swe if max_swe > max_y else max_y\n",
    "\n",
    "    \n",
    "    ax2.axhline(0, color='black', ls='dashed', lw=0.6)\n",
    "    bbox = dict(boxstyle=\"round4,pad=0.3\", fc=\"powderblue\", lw=0)\n",
    "    ax2.annotate('SNOW 17 higher', xy=(0.01, 0.9), fontstyle='italic', xycoords='axes fraction', bbox=bbox)\n",
    "    bbox = dict(boxstyle=\"round4,pad=0.3\", fc=\"thistle\", lw=0)\n",
    "    ax2.annotate('UA SWE higher', xy=(0.01, 0.05), fontstyle='italic', xycoords='axes fraction', bbox=bbox)\n",
    "\n",
    "    ax1.set_ylim(bottom=-25, top=(max_y + 25))\n",
    "    ax1.set_xlim(left=s17.index[0], right=s17.index[-1])\n",
    "    \n",
    "    ax1.set_ylabel(r\"SNOW-17 SWE (mm)\")\n",
    "    ax1.legend(loc='upper left', ncols=3, frameon=False)\n",
    "    \n",
    "    ax2.set_ylabel(r\"$\\Delta$ SWE (mm)\")\n",
    "    ax2.set_xlabel('Year') "
   ]
  },
  {
   "cell_type": "code",
   "execution_count": null,
   "id": "4f255c2f-f8a1-4fb3-a044-584edc6a3a02",
   "metadata": {},
   "outputs": [],
   "source": [
    "def zone_list(ch5_id):\n",
    "    return [cz.zone for cz in target_zones if cz.ch5_id == ch5_id]"
   ]
  },
  {
   "cell_type": "code",
   "execution_count": null,
   "id": "7fddbd43-929d-4209-be02-b8b458c4e2e2",
   "metadata": {},
   "outputs": [],
   "source": [
    "[plot_zone(zone_list(ch5_id)) for ch5_id in target_ch5ids]"
   ]
  },
  {
   "cell_type": "code",
   "execution_count": null,
   "id": "d66a3dd7-ad18-4ea6-9618-3930119d8c17",
   "metadata": {},
   "outputs": [],
   "source": []
  }
 ],
 "metadata": {
  "kernelspec": {
   "display_name": "snow-viz",
   "language": "python",
   "name": "snow-viz"
  },
  "language_info": {
   "codemirror_mode": {
    "name": "ipython",
    "version": 3
   },
   "file_extension": ".py",
   "mimetype": "text/x-python",
   "name": "python",
   "nbconvert_exporter": "python",
   "pygments_lexer": "ipython3",
   "version": "3.12.4"
  }
 },
 "nbformat": 4,
 "nbformat_minor": 5
}
