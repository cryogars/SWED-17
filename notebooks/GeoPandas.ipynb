{
 "cells": [
  {
   "cell_type": "code",
   "execution_count": null,
   "id": "3f0e23d5-50d9-480e-bc22-fbb2e666beb0",
   "metadata": {},
   "outputs": [],
   "source": [
    "import xarray as xr\n",
    "import numpy as np\n",
    "import geopandas as gp\n",
    "\n",
    "from nb_shared import *\n",
    "\n",
    "from swe_compare.nb_helpers import start_cluster\n",
    "from swe_compare import CBRFCZone, Snow17SWE, ZoneCompare\n",
    "from swe_compare.rasterize_zone import cbrfc_zone_mask_as_xr"
   ]
  },
  {
   "cell_type": "markdown",
   "id": "b04712ea-5421-4d14-a3f1-6ed672c9a3e1",
   "metadata": {},
   "source": [
    "# Description\n",
    "\n",
    "Notebook to spatially join a rasterized CBRFC zone with the centers of the grid cells of a SWANN data set.  \n",
    "This was not successful as the centers do not all overlap with a zone polygon at that location."
   ]
  },
  {
   "cell_type": "code",
   "execution_count": null,
   "id": "0b550bad-102f-44c2-b949-51fd722009f9",
   "metadata": {},
   "outputs": [],
   "source": [
    "upperColorado = CBRFCZone(UC_ZONES)\n",
    "cbrfc_zones = cbrfc_zone_mask_as_xr(UC_ZONE_TIF, upperColorado)"
   ]
  },
  {
   "cell_type": "code",
   "execution_count": null,
   "id": "68e04acf-01cc-4cd9-9fc2-b41b13429116",
   "metadata": {},
   "outputs": [],
   "source": [
    "s17_swe = Snow17SWE(\n",
    "    SWE_HOME_DIR + 'CBRFC_Gunnison_1981_2020_SWE_inches.csv',\n",
    ")\n",
    "target_zones = list(s17_swe.csv.columns)\n",
    "target_zones = upperColorado.target_zones_as_dict(target_zones)\n",
    "target_zones"
   ]
  },
  {
   "cell_type": "code",
   "execution_count": null,
   "id": "3df8716e-7644-421f-94b5-12814939340d",
   "metadata": {},
   "outputs": [],
   "source": [
    "alec2_huf = upperColorado.shapefile.query(\"zone == 'ALEC2HUF'\")"
   ]
  },
  {
   "cell_type": "code",
   "execution_count": null,
   "id": "8d5d3158-c411-419d-90bc-4fbf33e2e20f",
   "metadata": {},
   "outputs": [],
   "source": [
    "alec2_huf.bounds"
   ]
  },
  {
   "cell_type": "code",
   "execution_count": null,
   "id": "8fd6f3c7-191e-4823-af04-5cbf15154898",
   "metadata": {},
   "outputs": [],
   "source": [
    "swann = xr.open_mfdataset(\n",
    "    SWANN_HOME_DIR + '*2019_v01.nc',\n",
    ")"
   ]
  },
  {
   "cell_type": "code",
   "execution_count": null,
   "id": "22a3c00d-baa6-4851-9848-4e166a46e0ce",
   "metadata": {},
   "outputs": [],
   "source": [
    "swann = swann.SWE.sel(\n",
    "    lat=slice(alec2_huf.bounds.miny.values[0], alec2_huf.bounds.maxy.values[0]),\n",
    "    lon=slice(alec2_huf.bounds.minx.values[0], alec2_huf.bounds.maxx.values[0]),\n",
    ")"
   ]
  },
  {
   "cell_type": "code",
   "execution_count": null,
   "id": "712daa73-b9fa-4520-a1ea-ee2549df7760",
   "metadata": {},
   "outputs": [],
   "source": [
    "df = swann.isel(time=[0]).to_dataframe().reset_index()\n",
    "df"
   ]
  },
  {
   "cell_type": "code",
   "execution_count": null,
   "id": "2339ae62-3e28-4b8f-8738-867b13daa53a",
   "metadata": {},
   "outputs": [],
   "source": [
    "swann_gp = gp.GeoDataFrame(\n",
    "    df, geometry=gp.points_from_xy(df.lon,df.lat, crs=\"EPSG:4269\")\n",
    ")\n",
    "\n",
    "swann_gp"
   ]
  },
  {
   "cell_type": "code",
   "execution_count": null,
   "id": "d2c3d4be-e25c-4861-a0b3-d36004d26cd5",
   "metadata": {},
   "outputs": [],
   "source": [
    "alec2_swann_swe = alec2_huf.sjoin(swann_gp)"
   ]
  },
  {
   "cell_type": "code",
   "execution_count": null,
   "id": "249bbb53-80f7-44cc-8d0c-af83fc7bb804",
   "metadata": {},
   "outputs": [],
   "source": [
    "alec2_swann_swe"
   ]
  },
  {
   "cell_type": "code",
   "execution_count": null,
   "id": "7e58a838-4dbb-40a6-aea6-8eb482fbd859",
   "metadata": {},
   "outputs": [],
   "source": []
  }
 ],
 "metadata": {
  "kernelspec": {
   "display_name": "snow-viz",
   "language": "python",
   "name": "snow-viz"
  },
  "language_info": {
   "codemirror_mode": {
    "name": "ipython",
    "version": 3
   },
   "file_extension": ".py",
   "mimetype": "text/x-python",
   "name": "python",
   "nbconvert_exporter": "python",
   "pygments_lexer": "ipython3",
   "version": "3.12.2"
  }
 },
 "nbformat": 4,
 "nbformat_minor": 5
}
