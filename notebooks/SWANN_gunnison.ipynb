{
 "cells": [
  {
   "cell_type": "code",
   "execution_count": null,
   "id": "27b54c4a-05cc-4292-8676-3e9d3e4d3273",
   "metadata": {},
   "outputs": [],
   "source": [
    "from nb_shared import *\n",
    "from swe_compare.nb_helpers import start_cluster\n",
    "from swe_compare import CBRFCZone, Snow17SWE, ZoneCompare\n",
    "from swe_compare.swann_helpers import combine_cbrfc_swann, swann_swe_for_zones"
   ]
  },
  {
   "cell_type": "markdown",
   "id": "1498c828-ad71-4423-b24d-ff845b65d40e",
   "metadata": {},
   "source": [
    "### Cluster for batch processing"
   ]
  },
  {
   "cell_type": "code",
   "execution_count": null,
   "id": "8e2aa230-37f2-4208-bbf2-b0b3c1ed6b3d",
   "metadata": {
    "editable": true,
    "slideshow": {
     "slide_type": ""
    },
    "tags": []
   },
   "outputs": [],
   "source": [
    "cluster = start_cluster(n_workers=20, local=False)"
   ]
  },
  {
   "cell_type": "markdown",
   "id": "3a41f992-5e39-4b35-9c66-452a3b76abf9",
   "metadata": {},
   "source": [
    "## Snow-17 SWE"
   ]
  },
  {
   "cell_type": "code",
   "execution_count": null,
   "id": "5a662fd4-8e9d-4551-bac5-a67fec79f1cb",
   "metadata": {},
   "outputs": [],
   "source": [
    "gunnison_s17_swe = Snow17SWE(\n",
    "    SWE_HOME_DIR + 'CBRFC_Gunnison_1981_2020_SWE_inches.csv',\n",
    ")"
   ]
  },
  {
   "cell_type": "markdown",
   "id": "171c8098-2532-4df4-b65a-0fadd377b5ba",
   "metadata": {},
   "source": [
    "## CBRFC Zones"
   ]
  },
  {
   "cell_type": "code",
   "execution_count": null,
   "id": "bbc39af0-22a0-47e4-ac7d-e68f676da01a",
   "metadata": {},
   "outputs": [],
   "source": [
    "upperColorado = CBRFCZone(UC_ZONES)"
   ]
  },
  {
   "cell_type": "markdown",
   "id": "87bbf832-21b1-46a7-96da-ebabaeecbc21",
   "metadata": {},
   "source": [
    "## Target comparison zones"
   ]
  },
  {
   "cell_type": "code",
   "execution_count": null,
   "id": "5f31ea80-31b3-474c-b9cf-2ca68304ea7c",
   "metadata": {},
   "outputs": [],
   "source": [
    "target_zones = list(gunnison_s17_swe.csv.columns)\n",
    "target_zones = upperColorado.target_zones_as_dict(target_zones)\n",
    "target_zones"
   ]
  },
  {
   "cell_type": "markdown",
   "id": "274bab58-b3f2-4533-97e5-a509d9b2a9cd",
   "metadata": {},
   "source": [
    "## SWANN"
   ]
  },
  {
   "cell_type": "code",
   "execution_count": null,
   "id": "3bc0e30a-1f82-4d8b-81f2-4ba13c7be386",
   "metadata": {},
   "outputs": [],
   "source": [
    "swann_swe_target_zones = swann_swe_for_zones(\n",
    "    SWANN_HOME_DIR + '*.nc', \n",
    "    UC_ZONE_TIF, \n",
    "    upperColorado,\n",
    "    target_zones,\n",
    ")"
   ]
  },
  {
   "cell_type": "markdown",
   "id": "18f0ab46-7a03-4cab-afab-332b37ba873e",
   "metadata": {},
   "source": [
    "# Comparison "
   ]
  },
  {
   "cell_type": "code",
   "execution_count": null,
   "id": "767f571d-ca7b-455b-9780-a5e609d32dca",
   "metadata": {},
   "outputs": [],
   "source": [
    "gunnison_compare = ZoneCompare(target_zones, gunnison_s17_swe.csv, swann_swe_target_zones)\n",
    "plots = [gunnison_compare.plot_panels(zone) for zone in target_zones.keys()]\n",
    "all = hv.Layout(plots).cols(2)\n",
    "\n",
    "# pn.pane.HoloViews(all).save('gunnison', embed=True, resources=INLINE)\n",
    "# all"
   ]
  },
  {
   "cell_type": "code",
   "execution_count": null,
   "id": "aa5a0473-4e64-4b66-988a-bcf17b901713",
   "metadata": {},
   "outputs": [],
   "source": [
    "cluster.shutdown()"
   ]
  }
 ],
 "metadata": {
  "kernelspec": {
   "display_name": "snow-viz",
   "language": "python",
   "name": "snow-viz"
  },
  "language_info": {
   "codemirror_mode": {
    "name": "ipython",
    "version": 3
   },
   "file_extension": ".py",
   "mimetype": "text/x-python",
   "name": "python",
   "nbconvert_exporter": "python",
   "pygments_lexer": "ipython3",
   "version": "3.12.2"
  }
 },
 "nbformat": 4,
 "nbformat_minor": 5
}
