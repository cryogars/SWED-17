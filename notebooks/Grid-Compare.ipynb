{
 "cells": [
  {
   "cell_type": "code",
   "execution_count": null,
   "id": "1ec00836-f168-4e32-a612-0ebc696651b8",
   "metadata": {},
   "outputs": [],
   "source": [
    "import xarray as xr\n",
    "import numpy as np\n",
    "\n",
    "import geopandas as gp\n",
    "import matplotlib.pyplot as plt\n",
    "\n",
    "from nb_shared import *\n",
    "\n",
    "from swe_compare.nb_helpers import start_cluster\n",
    "from swe_compare import CBRFCZone, Snow17SWE, ZoneCompare\n",
    "from swe_compare.rasterize_zone import \\\n",
    "    cbrfc_zone_mask_as_xr, single_cbrfc_zone_mask_as_xr"
   ]
  },
  {
   "cell_type": "markdown",
   "id": "1d531e8f-ef54-44ab-bb0c-fadfa61f016d",
   "metadata": {},
   "source": [
    "# Description\n",
    "\n",
    "This notebook rasterizes a single CBRFC zone shape into a gridded raster based on the SWANN raster grid."
   ]
  },
  {
   "cell_type": "code",
   "execution_count": null,
   "id": "0b550bad-102f-44c2-b949-51fd722009f9",
   "metadata": {},
   "outputs": [],
   "source": [
    "upperColorado = CBRFCZone(UC_ZONES)\n",
    "cbrfc_zones = cbrfc_zone_mask_as_xr(UC_ZONE_TIF, upperColorado)"
   ]
  },
  {
   "cell_type": "code",
   "execution_count": null,
   "id": "68e04acf-01cc-4cd9-9fc2-b41b13429116",
   "metadata": {},
   "outputs": [],
   "source": [
    "s17_swe = Snow17SWE(\n",
    "    SWE_HOME_DIR + 'CBRFC_Gunnison_1981_2020_SWE_inches.csv',\n",
    ")\n",
    "target_zones = list(s17_swe.csv.columns)\n",
    "target_zones = upperColorado.target_zones_as_dict(target_zones)\n",
    "target_zones"
   ]
  },
  {
   "cell_type": "code",
   "execution_count": null,
   "id": "3df8716e-7644-421f-94b5-12814939340d",
   "metadata": {},
   "outputs": [],
   "source": [
    "alec2_huf = upperColorado.shapefile.query(\"zone == 'ALEC2HUF'\")"
   ]
  },
  {
   "cell_type": "code",
   "execution_count": null,
   "id": "8d5d3158-c411-419d-90bc-4fbf33e2e20f",
   "metadata": {},
   "outputs": [],
   "source": [
    "alec2_huf.bounds"
   ]
  },
  {
   "cell_type": "code",
   "execution_count": null,
   "id": "8fd6f3c7-191e-4823-af04-5cbf15154898",
   "metadata": {},
   "outputs": [],
   "source": [
    "swann = xr.open_mfdataset(\n",
    "    SWANN_HOME_DIR + 'SWE_Mask_v01.nc',\n",
    ")"
   ]
  },
  {
   "cell_type": "code",
   "execution_count": null,
   "id": "30d5d70c-b5d1-4f53-84d2-33ecad73979a",
   "metadata": {},
   "outputs": [],
   "source": [
    "bottom_right = swann.sel(\n",
    "    lat=alec2_huf.bounds.miny.values[0],\n",
    "    lon=alec2_huf.bounds.minx.values[0],\n",
    "    method=\"nearest\"\n",
    ")\n",
    "top_left = swann.sel(\n",
    "    lat=alec2_huf.bounds.maxy.values[0],\n",
    "    lon=alec2_huf.bounds.maxx.values[0],\n",
    "    method=\"nearest\"\n",
    ")"
   ]
  },
  {
   "cell_type": "code",
   "execution_count": null,
   "id": "1423e597-2284-4716-99c3-50c6e224b5c2",
   "metadata": {},
   "outputs": [],
   "source": [
    "top_left"
   ]
  },
  {
   "cell_type": "code",
   "execution_count": null,
   "id": "104d5569-0166-4ea5-84ab-aae08c095b63",
   "metadata": {},
   "outputs": [],
   "source": [
    "bottom_right"
   ]
  },
  {
   "cell_type": "code",
   "execution_count": null,
   "id": "4448b68a-0259-498f-a3ec-b5ed54251d92",
   "metadata": {},
   "outputs": [],
   "source": [
    "lat_mean_diff = np.mean(np.diff(swann.lat.values)) / 2\n",
    "print(lat_mean_diff)\n",
    "lon_mean_diff = np.mean(np.diff(swann.lon.values)) / 2\n",
    "print(lon_mean_diff)\n",
    "lat_values = swann.lat.values - lat_mean_diff\n",
    "# lat_values = np.insert(lat_values, 0, lat_values[-1] + lon_mean_diff)"
   ]
  },
  {
   "cell_type": "code",
   "execution_count": null,
   "id": "3ecc9632-5241-415e-819e-8cd166d3e854",
   "metadata": {},
   "outputs": [],
   "source": [
    "alec2_huf_tif = single_cbrfc_zone_mask_as_xr(\n",
    "    UC_ZONE_TIF, alec2_huf\n",
    ")"
   ]
  },
  {
   "cell_type": "code",
   "execution_count": null,
   "id": "45beea48-aab5-4dea-b91b-0ec7c7e61f74",
   "metadata": {},
   "outputs": [],
   "source": [
    "alec2_huf_tif = alec2_huf_tif.sel(\n",
    "    lat=slice(alec2_huf.bounds.miny.values[0], alec2_huf.bounds.maxy.values[0]),\n",
    "    lon=slice(alec2_huf.bounds.minx.values[0], alec2_huf.bounds.maxx.values[0]),\n",
    ")"
   ]
  },
  {
   "cell_type": "code",
   "execution_count": null,
   "id": "f0d1fbab-83eb-4544-b7b2-a9fc8c8bdba3",
   "metadata": {},
   "outputs": [],
   "source": [
    "fig = plt.figure(dpi=150)\n",
    "ax = fig.gca()\n",
    "alec2_huf_tif.zone.plot(ax=ax)\n",
    "alec2_huf.plot(ax=ax, color='orange')\n",
    "ax.hlines(lat_values, -108, -106, color='black', lw=1, ls=':')\n",
    "ax.vlines(swann.lon.values - lon_mean_diff, 38, 40, color='black', lw=1, ls=':')\n",
    "ax.set_xlim(alec2_huf.bounds.minx.values[0], alec2_huf.bounds.maxx.values[0])\n",
    "ax.set_ylim(alec2_huf.bounds.miny.values[0], alec2_huf.bounds.maxy.values[0])\n",
    "ax.tick_params(axis='x', rotation=-25)\n",
    "ax.set_title('SWANN grid');"
   ]
  },
  {
   "cell_type": "code",
   "execution_count": null,
   "id": "4f2063d3-b502-42f7-b86e-8b8a5548951a",
   "metadata": {},
   "outputs": [],
   "source": []
  }
 ],
 "metadata": {
  "kernelspec": {
   "display_name": "snow-viz",
   "language": "python",
   "name": "snow-viz"
  },
  "language_info": {
   "codemirror_mode": {
    "name": "ipython",
    "version": 3
   },
   "file_extension": ".py",
   "mimetype": "text/x-python",
   "name": "python",
   "nbconvert_exporter": "python",
   "pygments_lexer": "ipython3",
   "version": "3.12.2"
  }
 },
 "nbformat": 4,
 "nbformat_minor": 5
}
