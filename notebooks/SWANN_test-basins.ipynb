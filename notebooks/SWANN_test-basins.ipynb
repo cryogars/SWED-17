{
 "cells": [
  {
   "cell_type": "code",
   "execution_count": null,
   "id": "27b54c4a-05cc-4292-8676-3e9d3e4d3273",
   "metadata": {},
   "outputs": [],
   "source": [
    "from nb_shared import *"
   ]
  },
  {
   "cell_type": "markdown",
   "id": "1498c828-ad71-4423-b24d-ff845b65d40e",
   "metadata": {},
   "source": [
    "### Cluster for batch processing"
   ]
  },
  {
   "cell_type": "code",
   "execution_count": null,
   "id": "9a11149f-a237-45d3-a32f-580c62df7bea",
   "metadata": {
    "editable": true,
    "slideshow": {
     "slide_type": ""
    },
    "tags": []
   },
   "outputs": [],
   "source": [
    "cluster = start_cluster(n_workers=20, local=False)"
   ]
  },
  {
   "cell_type": "markdown",
   "id": "5d8e6ec1-d2ec-4e04-a16b-00c98d5d95a8",
   "metadata": {},
   "source": [
    "## Target Zones"
   ]
  },
  {
   "cell_type": "code",
   "execution_count": null,
   "id": "5537915f-6d93-4b04-a1d3-0edc25a0c584",
   "metadata": {},
   "outputs": [],
   "source": [
    "target_ch5ids = [\n",
    "    # 'ANBC2',\n",
    "    # 'RCYC2',\n",
    "    'ALEC2',\n",
    "    # 'ENMC2',\n",
    "    # 'WBRW4',\n",
    "    'BPPA3',\n",
    "    # 'OAWU1'\n",
    "]"
   ]
  },
  {
   "cell_type": "markdown",
   "id": "3a41f992-5e39-4b35-9c66-452a3b76abf9",
   "metadata": {},
   "source": [
    "## Snow-17 SWE"
   ]
  },
  {
   "cell_type": "code",
   "execution_count": null,
   "id": "28539d2e-d875-4eb2-a939-688848c2fffc",
   "metadata": {},
   "outputs": [],
   "source": [
    "snow17_db = SweDB(SNOW_17_DB_CONNECTION)"
   ]
  },
  {
   "cell_type": "markdown",
   "id": "274bab58-b3f2-4533-97e5-a509d9b2a9cd",
   "metadata": {},
   "source": [
    "## SWANN for CBRFC zone"
   ]
  },
  {
   "cell_type": "code",
   "execution_count": null,
   "id": "417e487d-3cff-46ab-a18a-92d57d312eef",
   "metadata": {},
   "outputs": [],
   "source": [
    "zone_db = ZoneDB(DB_CONNECTION_INFO)\n",
    "swann_xr = xr.open_mfdataset(SWANN_HOME_DIR + '*.nc', parallel=True)"
   ]
  },
  {
   "cell_type": "markdown",
   "id": "18f0ab46-7a03-4cab-afab-332b37ba873e",
   "metadata": {},
   "source": [
    "# Get SWE for each year"
   ]
  },
  {
   "cell_type": "markdown",
   "id": "e1bb3da0-fe38-4a2a-a167-864a9d97b8d1",
   "metadata": {},
   "source": [
    "peak_swe = peak_swe_for_swann(swann_xr, target_zone_names, zone_db) "
   ]
  },
  {
   "cell_type": "code",
   "execution_count": null,
   "id": "b1aa4ae0-c1f1-49b3-971a-1063c4061b9a",
   "metadata": {},
   "outputs": [],
   "source": [
    "target_zones = zone_db.zone_in_ch5_ids(target_ch5ids)"
   ]
  },
  {
   "cell_type": "code",
   "execution_count": null,
   "id": "c46e0952-35e3-4969-ac19-c62defc75b72",
   "metadata": {},
   "outputs": [],
   "source": [
    "swann_swe = {\n",
    "    cz.zone: swann_swe_for_zone(swann_xr, cz.zone, zone_db) for cz in target_zones\n",
    "}"
   ]
  },
  {
   "cell_type": "code",
   "execution_count": null,
   "id": "dcc76bed-fe4f-40bc-a681-894aa4ef8e59",
   "metadata": {},
   "outputs": [],
   "source": [
    "cluster.shutdown()"
   ]
  },
  {
   "cell_type": "code",
   "execution_count": null,
   "id": "042c77ea-046d-4584-9400-d2b99e4274c5",
   "metadata": {},
   "outputs": [],
   "source": [
    "snow17_swe = {\n",
    "    cz.zone: Swe(snow17_db, cz.ch5_id + 'H', cz.zone).dataframe for cz in target_zones\n",
    "}"
   ]
  },
  {
   "cell_type": "code",
   "execution_count": null,
   "id": "d862652c-a2fe-45f1-9c2c-0f0690237d79",
   "metadata": {},
   "outputs": [],
   "source": [
    "def plot_zone(ch5_id):\n",
    "    fig, (ax1, ax2) = plt.subplots(2, 1, dpi=300, sharex=True, figsize=(12,5))\n",
    "    fig.subplots_adjust(hspace=0)\n",
    "    colors = ['cadetblue', 'goldenrod', 'crimson'] \n",
    "\n",
    "    for index, zone in enumerate(['HLF', 'HMF', 'HUF']):\n",
    "        s17 = snow17_swe[ch5_id + zone].loc['1999-10-01':'2020-07-31']\n",
    "        swann = swann_swe[ch5_id + zone].loc['1999-10-01':'2020-07-31']\n",
    "        diff = s17['SWE (mm)'] - swann[ch5_id + zone + '_SWANN']\n",
    "        \n",
    "        ax1.plot(\n",
    "            s17.index, s17['SWE (mm)'], label=f'{zone}', color=colors[index], alpha=0.6,\n",
    "        )\n",
    "        # ax.plot(\n",
    "        #     swann.index, swann[zone_name + '_SWANN'], \n",
    "        #     label='UA SWE', ls=(0, (5, 1)), lw=0.8, color='goldenrod'\n",
    "        # )\n",
    "        ax2.plot(\n",
    "            s17.index, diff, label=f'{zone}', lw=0.9, color=colors[index], alpha=0.7,\n",
    "        )\n",
    "        if zone == 'HUF':\n",
    "            ax1.set_ylim(bottom=-100, top=math.ceil(s17['SWE (mm)'].max() + 20))\n",
    "            ax2.set_xlim(left=s17.index[0], right=s17.index[-1])\n",
    "\n",
    "    ax2.axhline(0, color='black', ls='dashed', lw=0.6)\n",
    "    bbox = dict(boxstyle=\"round4,pad=0.3\", fc=\"powderblue\", lw=0)\n",
    "    ax2.annotate('SNOW 17 higher', xy=(0.01, 0.9), fontstyle='italic', xycoords='axes fraction', bbox=bbox)\n",
    "    bbox = dict(boxstyle=\"round4,pad=0.3\", fc=\"thistle\", lw=0)\n",
    "    ax2.annotate('UA SWE higher', xy=(0.01, 0.05), fontstyle='italic', xycoords='axes fraction', bbox=bbox)\n",
    "\n",
    "    ax1.set_ylabel(r\"SNOW-17 SWE (mm)\")\n",
    "    ax1.legend(loc='upper left', ncols=3, frameon=False)\n",
    "    \n",
    "    ax2.set_ylabel(r\"$\\Delta$ SWE (mm)\")\n",
    "    ax2.set_xlabel('Year') "
   ]
  },
  {
   "cell_type": "code",
   "execution_count": null,
   "id": "7fddbd43-929d-4209-be02-b8b458c4e2e2",
   "metadata": {},
   "outputs": [],
   "source": [
    "plot_zone('ALEC2')"
   ]
  },
  {
   "cell_type": "code",
   "execution_count": null,
   "id": "5674be2f-ceef-4b69-bda4-be62a9f5a2ae",
   "metadata": {},
   "outputs": [],
   "source": [
    "import math"
   ]
  },
  {
   "cell_type": "code",
   "execution_count": null,
   "id": "7344b699-c9c7-430f-b6fb-560a71908987",
   "metadata": {},
   "outputs": [],
   "source": [
    "def plot_zone(ch5_id):\n",
    "    fig, (ax1, ax2) = plt.subplots(2, 1, dpi=300, sharex=True, figsize=(12,5))\n",
    "    fig.subplots_adjust(hspace=0)\n",
    "    colors = ['cadetblue', 'goldenrod', 'crimson'] \n",
    "\n",
    "    for index, zone in enumerate(['HLH', 'HMH', 'HUH']):\n",
    "        s17 = snow17_swe[ch5_id + zone].loc['1999-10-01':'2020-07-31']\n",
    "        swann = swann_swe[ch5_id + zone].loc['1999-10-01':'2020-07-31']\n",
    "        diff = s17['SWE (mm)'] - swann[ch5_id + zone + '_SWANN']\n",
    "        \n",
    "        ax1.plot(\n",
    "            s17.index, s17['SWE (mm)'], label=f'{zone}', color=colors[index], alpha=0.6,\n",
    "        )\n",
    "        # ax.plot(\n",
    "        #     swann.index, swann[zone_name + '_SWANN'], \n",
    "        #     label='UA SWE', ls=(0, (5, 1)), lw=0.8, color='goldenrod'\n",
    "        # )\n",
    "        ax2.plot(\n",
    "            s17.index, diff, label=f'{zone}', lw=0.9, color=colors[index], alpha=0.7,\n",
    "        )\n",
    "        if zone == 'HUH':\n",
    "            ax1.set_ylim(bottom=-25, top=math.ceil(s17['SWE (mm)'].max() + 20))\n",
    "            ax2.set_xlim(left=s17.index[0], right=s17.index[-1])\n",
    "\n",
    "    ax2.axhline(0, color='black', ls='dashed', lw=0.6)\n",
    "    bbox = dict(boxstyle=\"round4,pad=0.3\", fc=\"powderblue\", lw=0)\n",
    "    ax2.annotate('SNOW 17 higher', xy=(0.01, 0.9), fontstyle='italic', xycoords='axes fraction', bbox=bbox)\n",
    "    bbox = dict(boxstyle=\"round4,pad=0.3\", fc=\"thistle\", lw=0)\n",
    "    ax2.annotate('UA SWE higher', xy=(0.01, 0.05), fontstyle='italic', xycoords='axes fraction', bbox=bbox)\n",
    "    \n",
    "    ax1.set_ylabel(r\"SNOW-17 SWE (mm)\")\n",
    "    # ax1.set_title(ch5_id)\n",
    "    ax1.legend(loc='upper left', ncols=3, frameon=False)\n",
    "    \n",
    "    ax2.set_ylabel(r\"$\\Delta$ SWE (mm)\")\n",
    "    ax2.set_xlabel('Year') "
   ]
  },
  {
   "cell_type": "code",
   "execution_count": null,
   "id": "557d149b-1c6b-47d3-a3bd-ad1a23febfcd",
   "metadata": {},
   "outputs": [],
   "source": [
    "plot_zone(\"BPPA3\")"
   ]
  },
  {
   "cell_type": "markdown",
   "id": "e77def65-0464-4f23-8ee1-8740dbe3fc63",
   "metadata": {},
   "source": [
    "ZonePlotter.show_all(plot, 1)"
   ]
  },
  {
   "cell_type": "markdown",
   "id": "e862ef93-50ac-4a59-9b70-d45359012a65",
   "metadata": {},
   "source": [
    "ZonePlotter.save_html(HTML_OUTPUT + 'virgin_peak_SWE', plot, 1)"
   ]
  }
 ],
 "metadata": {
  "kernelspec": {
   "display_name": "snow-viz",
   "language": "python",
   "name": "snow-viz"
  },
  "language_info": {
   "codemirror_mode": {
    "name": "ipython",
    "version": 3
   },
   "file_extension": ".py",
   "mimetype": "text/x-python",
   "name": "python",
   "nbconvert_exporter": "python",
   "pygments_lexer": "ipython3",
   "version": "3.12.4"
  }
 },
 "nbformat": 4,
 "nbformat_minor": 5
}
