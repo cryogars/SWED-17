{
 "cells": [
  {
   "cell_type": "code",
   "execution_count": null,
   "id": "27b54c4a-05cc-4292-8676-3e9d3e4d3273",
   "metadata": {},
   "outputs": [],
   "source": [
    "from nb_shared import *"
   ]
  },
  {
   "cell_type": "markdown",
   "id": "1498c828-ad71-4423-b24d-ff845b65d40e",
   "metadata": {},
   "source": [
    "### Cluster for batch processing"
   ]
  },
  {
   "cell_type": "code",
   "execution_count": null,
   "id": "9a11149f-a237-45d3-a32f-580c62df7bea",
   "metadata": {
    "editable": true,
    "slideshow": {
     "slide_type": ""
    },
    "tags": []
   },
   "outputs": [],
   "source": [
    "cluster = start_cluster(n_workers=20, local=False)"
   ]
  },
  {
   "cell_type": "markdown",
   "id": "3a41f992-5e39-4b35-9c66-452a3b76abf9",
   "metadata": {},
   "source": [
    "## Snow-17 SWE"
   ]
  },
  {
   "cell_type": "markdown",
   "id": "66e8eabe-e5c8-4773-a2b5-4ab819d5249a",
   "metadata": {},
   "source": [
    "s17_swe = Snow17SWE(\n",
    "    SWE_HOME_DIR + 'CBRFC_Virgin_1981_2020_SWE_inches.csv',\n",
    ")\n",
    "\n",
    "target_zones = list(s17_swe.csv.columns)\n",
    "target_zones"
   ]
  },
  {
   "cell_type": "code",
   "execution_count": null,
   "id": "5537915f-6d93-4b04-a1d3-0edc25a0c584",
   "metadata": {},
   "outputs": [],
   "source": [
    "target_ch5ids = [\n",
    "    'ANBC2',\n",
    "    'RCYC2',\n",
    "    'FPTC2',\n",
    "    'ENMC2',\n",
    "    'WBRW4',\n",
    "    'BPPA3',\n",
    "    'OAWU1'\n",
    "]"
   ]
  },
  {
   "cell_type": "markdown",
   "id": "274bab58-b3f2-4533-97e5-a509d9b2a9cd",
   "metadata": {},
   "source": [
    "## SWANN for CBRFC zone"
   ]
  },
  {
   "cell_type": "code",
   "execution_count": null,
   "id": "417e487d-3cff-46ab-a18a-92d57d312eef",
   "metadata": {},
   "outputs": [],
   "source": [
    "zone_db = ZoneDB(DB_CONNECTION_INFO)\n",
    "swann_xr = xr.open_mfdataset(SWANN_HOME_DIR + '*.nc', parallel=True)"
   ]
  },
  {
   "cell_type": "markdown",
   "id": "18f0ab46-7a03-4cab-afab-332b37ba873e",
   "metadata": {},
   "source": [
    "# Get peak SWE for each year"
   ]
  },
  {
   "cell_type": "code",
   "execution_count": null,
   "id": "b1aa4ae0-c1f1-49b3-971a-1063c4061b9a",
   "metadata": {},
   "outputs": [],
   "source": [
    "target_zones = zone_db.zone_in_ch5_id(target_ch5ids)\n",
    "target_zone_names = [cz.zone for cz in target_zones]"
   ]
  },
  {
   "cell_type": "code",
   "execution_count": null,
   "id": "ba4d8cf9-3e53-40c2-bc74-3a5c5354692e",
   "metadata": {},
   "outputs": [],
   "source": [
    "peak_swe = peak_swe_for_swann(swann_xr, target_zone_names, zone_db) "
   ]
  },
  {
   "cell_type": "code",
   "execution_count": null,
   "id": "919d7d10-845e-4176-a49d-cc7452c45bcd",
   "metadata": {},
   "outputs": [],
   "source": [
    "peak_swe['BPPA3HLH'].hvplot()"
   ]
  },
  {
   "cell_type": "code",
   "execution_count": null,
   "id": "c46e0952-35e3-4969-ac19-c62defc75b72",
   "metadata": {},
   "outputs": [],
   "source": [
    "%%time\n",
    "swann_swe = {\n",
    "    zone: swann_swe_for_zone(swann_xr, zone, zone_db) for zone in target_zone_names\n",
    "}"
   ]
  },
  {
   "cell_type": "markdown",
   "id": "c97ee0c9-04ba-4b46-8d44-b0da75961dce",
   "metadata": {},
   "source": [
    "plot = compare_peak_swe(\n",
    "    peak_swe_for_pd(s17_swe.csv), \n",
    "    peak_swe_for_swann(swann_xr, target_zones, zone_db) \n",
    ")"
   ]
  },
  {
   "cell_type": "code",
   "execution_count": null,
   "id": "0983d57f-b6ec-439a-80a9-051bd1da703b",
   "metadata": {},
   "outputs": [],
   "source": [
    "swann_swe['BPPA3HLH'].hvplot()"
   ]
  },
  {
   "cell_type": "code",
   "execution_count": null,
   "id": "9851bbba-5318-419e-889f-23d27620a08b",
   "metadata": {},
   "outputs": [],
   "source": [
    "ZonePlotter.show_all(plot, 1)"
   ]
  },
  {
   "cell_type": "code",
   "execution_count": null,
   "id": "6704ed9a-08d0-473e-a877-82d93ae19603",
   "metadata": {},
   "outputs": [],
   "source": [
    "ZonePlotter.save_html(HTML_OUTPUT + 'virgin_peak_SWE', plot, 1)"
   ]
  },
  {
   "cell_type": "code",
   "execution_count": null,
   "id": "dcc76bed-fe4f-40bc-a681-894aa4ef8e59",
   "metadata": {},
   "outputs": [],
   "source": [
    "cluster.shutdown()"
   ]
  }
 ],
 "metadata": {
  "kernelspec": {
   "display_name": "snow-viz",
   "language": "python",
   "name": "snow-viz"
  },
  "language_info": {
   "codemirror_mode": {
    "name": "ipython",
    "version": 3
   },
   "file_extension": ".py",
   "mimetype": "text/x-python",
   "name": "python",
   "nbconvert_exporter": "python",
   "pygments_lexer": "ipython3",
   "version": "3.12.4"
  }
 },
 "nbformat": 4,
 "nbformat_minor": 5
}
