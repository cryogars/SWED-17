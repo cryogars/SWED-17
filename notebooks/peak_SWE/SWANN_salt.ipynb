{
 "cells": [
  {
   "cell_type": "code",
   "execution_count": null,
   "id": "27b54c4a-05cc-4292-8676-3e9d3e4d3273",
   "metadata": {},
   "outputs": [],
   "source": [
    "from nb_shared import *"
   ]
  },
  {
   "cell_type": "markdown",
   "id": "1498c828-ad71-4423-b24d-ff845b65d40e",
   "metadata": {},
   "source": [
    "### Cluster for batch processing"
   ]
  },
  {
   "cell_type": "markdown",
   "id": "95bcf23d-fbf7-4786-bda3-d9636d54e0f4",
   "metadata": {
    "editable": true,
    "slideshow": {
     "slide_type": ""
    },
    "tags": []
   },
   "source": [
    "cluster = start_cluster(n_workers=20, local=False)"
   ]
  },
  {
   "cell_type": "markdown",
   "id": "3a41f992-5e39-4b35-9c66-452a3b76abf9",
   "metadata": {},
   "source": [
    "## Snow-17 SWE"
   ]
  },
  {
   "cell_type": "code",
   "execution_count": null,
   "id": "2c5417c2-6eed-412a-9077-10bef85fdb26",
   "metadata": {},
   "outputs": [],
   "source": [
    "s17_swe = Snow17SWE(\n",
    "    SWE_HOME_DIR + 'CBRFC_Salt_1981_2020_SWE_inches.csv',\n",
    ")\n",
    "\n",
    "target_zones = list(s17_swe.csv.columns)\n",
    "target_zones"
   ]
  },
  {
   "cell_type": "markdown",
   "id": "1a92cfdd-4c3f-44ba-9aee-e65c37472659",
   "metadata": {},
   "source": [
    "## SWANN for CBRFC zone"
   ]
  },
  {
   "cell_type": "markdown",
   "id": "9cc47346-d343-44a6-9a8c-481d90bd9b32",
   "metadata": {},
   "source": [
    "zone_db = ZoneDB(DB_CONNECTION_INFO)\n",
    "swann_xr = xr.open_mfdataset(SWANN_HOME_DIR + '*.nc', parallel=True)"
   ]
  },
  {
   "cell_type": "markdown",
   "id": "2ce49e1b-7cb0-405a-b360-7a844fee8c43",
   "metadata": {},
   "source": [
    "# Get peak SWE for each year"
   ]
  },
  {
   "cell_type": "code",
   "execution_count": null,
   "id": "a3a58cdb-5c0b-4e06-91f8-63555d141b4e",
   "metadata": {},
   "outputs": [],
   "source": [
    "peak_SWE = peak_swe_for_pd(s17_swe.csv)\n",
    "\n",
    "plot_peak_swe_pd(peak_SWE, \"Snow-17 Peak SWE\")"
   ]
  },
  {
   "cell_type": "markdown",
   "id": "bf6c873d-1cc5-4a10-a768-97f88b02941c",
   "metadata": {},
   "source": [
    "cluster.shutdown()"
   ]
  }
 ],
 "metadata": {
  "kernelspec": {
   "display_name": "snow-viz",
   "language": "python",
   "name": "snow-viz"
  },
  "language_info": {
   "codemirror_mode": {
    "name": "ipython",
    "version": 3
   },
   "file_extension": ".py",
   "mimetype": "text/x-python",
   "name": "python",
   "nbconvert_exporter": "python",
   "pygments_lexer": "ipython3",
   "version": "3.12.3"
  }
 },
 "nbformat": 4,
 "nbformat_minor": 5
}
