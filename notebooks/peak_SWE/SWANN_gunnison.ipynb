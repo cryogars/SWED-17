{
 "cells": [
  {
   "cell_type": "code",
   "execution_count": null,
   "id": "27b54c4a-05cc-4292-8676-3e9d3e4d3273",
   "metadata": {},
   "outputs": [],
   "source": [
    "from nb_shared import *"
   ]
  },
  {
   "cell_type": "markdown",
   "id": "1498c828-ad71-4423-b24d-ff845b65d40e",
   "metadata": {},
   "source": [
    "### Cluster for batch processing"
   ]
  },
  {
   "cell_type": "markdown",
   "id": "89b0f611-9439-466a-ae91-0458d31f7ea8",
   "metadata": {
    "editable": true,
    "scrolled": true,
    "slideshow": {
     "slide_type": ""
    },
    "tags": []
   },
   "source": [
    "cluster = start_cluster(n_workers=20, local=False)"
   ]
  },
  {
   "cell_type": "markdown",
   "id": "3a41f992-5e39-4b35-9c66-452a3b76abf9",
   "metadata": {},
   "source": [
    "## Snow-17 SWE\n",
    "Column names define target zones"
   ]
  },
  {
   "cell_type": "code",
   "execution_count": null,
   "id": "aad8b5bc-5eaf-4269-860a-d47ba234c42b",
   "metadata": {},
   "outputs": [],
   "source": [
    "s17_swe = Snow17SWE(\n",
    "    SWE_HOME_DIR + 'CBRFC_Gunnison_1981_2020_SWE_inches.csv',\n",
    ")\n",
    "\n",
    "target_zones = list(s17_swe.csv.columns)\n",
    "target_zones"
   ]
  },
  {
   "cell_type": "markdown",
   "id": "f4fb8663-c97c-4284-b456-83503e5bb37c",
   "metadata": {},
   "source": [
    "## SWANN for CBRFC zone"
   ]
  },
  {
   "cell_type": "code",
   "execution_count": null,
   "id": "78ce4b7f-91c1-415e-9c89-5d7f65a6b0b6",
   "metadata": {},
   "outputs": [],
   "source": [
    "zone_db = ZoneDB(DB_CONNECTION_INFO)\n",
    "swann_xr = xr.open_mfdataset(SWANN_HOME_DIR + '*.nc', parallel=True)"
   ]
  },
  {
   "cell_type": "markdown",
   "id": "18f0ab46-7a03-4cab-afab-332b37ba873e",
   "metadata": {},
   "source": [
    "# Get peak SWE for each year"
   ]
  },
  {
   "cell_type": "code",
   "execution_count": null,
   "id": "078fbcc3-585a-4775-91c6-245eb5755dd6",
   "metadata": {},
   "outputs": [],
   "source": [
    "peak_SWE = peak_swe_for_pd(s17_swe.csv)\n",
    "\n",
    "plot_peak_swe_pd(peak_SWE, \"Snow-17 Peak SWE\")"
   ]
  },
  {
   "cell_type": "code",
   "execution_count": null,
   "id": "fe33e98e-a9d9-4019-a3e8-c31fd1de1274",
   "metadata": {},
   "outputs": [],
   "source": [
    "s17_swe.csv[zone_name],\n",
    "swann_data_for_zone(swann_xr, zone_name, zone_db).SWE,\n",
    "range(1982, 2020)"
   ]
  },
  {
   "cell_type": "markdown",
   "id": "d5d4387b-93d1-413a-aaa3-88fa5f38efdb",
   "metadata": {},
   "source": [
    "cluster.shutdown()"
   ]
  },
  {
   "cell_type": "code",
   "execution_count": null,
   "id": "347a63b9-fed6-4d45-9634-2870d61e394b",
   "metadata": {},
   "outputs": [],
   "source": []
  }
 ],
 "metadata": {
  "kernelspec": {
   "display_name": "snow-viz",
   "language": "python",
   "name": "snow-viz"
  },
  "language_info": {
   "codemirror_mode": {
    "name": "ipython",
    "version": 3
   },
   "file_extension": ".py",
   "mimetype": "text/x-python",
   "name": "python",
   "nbconvert_exporter": "python",
   "pygments_lexer": "ipython3",
   "version": "3.12.3"
  }
 },
 "nbformat": 4,
 "nbformat_minor": 5
}
