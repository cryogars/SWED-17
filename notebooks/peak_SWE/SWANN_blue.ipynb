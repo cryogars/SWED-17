{
 "cells": [
  {
   "cell_type": "code",
   "execution_count": null,
   "id": "27b54c4a-05cc-4292-8676-3e9d3e4d3273",
   "metadata": {},
   "outputs": [],
   "source": [
    "from nb_shared import *"
   ]
  },
  {
   "cell_type": "markdown",
   "id": "1498c828-ad71-4423-b24d-ff845b65d40e",
   "metadata": {},
   "source": [
    "### Cluster for batch processing"
   ]
  },
  {
   "cell_type": "code",
   "execution_count": null,
   "id": "7425572c-22e9-415f-a4ba-ae1c0cd67353",
   "metadata": {
    "editable": true,
    "slideshow": {
     "slide_type": ""
    },
    "tags": []
   },
   "outputs": [],
   "source": [
    "cluster = start_cluster(n_workers=20, local=False)"
   ]
  },
  {
   "cell_type": "markdown",
   "id": "c62a54f4-b435-4a4b-ab8d-58d3296e117c",
   "metadata": {},
   "source": [
    "### DB connections"
   ]
  },
  {
   "cell_type": "code",
   "execution_count": null,
   "id": "5985a72e-78ea-4fcb-9d8e-43684245f29d",
   "metadata": {},
   "outputs": [],
   "source": [
    "snow17_db = SweDB(SNOW_17_DB_CONNECTION)\n",
    "zone_db = ZoneDB(DB_CONNECTION_INFO)"
   ]
  },
  {
   "cell_type": "markdown",
   "id": "3a41f992-5e39-4b35-9c66-452a3b76abf9",
   "metadata": {},
   "source": [
    "## Snow-17 SWE"
   ]
  },
  {
   "cell_type": "code",
   "execution_count": null,
   "id": "1bb3b003-67d9-4adf-8c9c-108a75b740f5",
   "metadata": {},
   "outputs": [],
   "source": [
    "ch5id = 'BUEC2'\n",
    "target_zones = zone_db.zone_in_ch5_id(ch5id)"
   ]
  },
  {
   "cell_type": "markdown",
   "id": "3b48cfa7-5835-4f41-90ab-78b8424eedb5",
   "metadata": {},
   "source": [
    "## SWANN for CBRFC zone"
   ]
  },
  {
   "cell_type": "code",
   "execution_count": null,
   "id": "3fe5ab42-845f-4437-9d61-db5c101db809",
   "metadata": {},
   "outputs": [],
   "source": [
    "swann_xr = xr.open_mfdataset(SWANN_HOME_DIR + '*.nc', parallel=True)"
   ]
  },
  {
   "cell_type": "markdown",
   "id": "6db583e9-250f-4ba7-8097-efb8f9467219",
   "metadata": {},
   "source": [
    "# Get peak SWE for each year"
   ]
  },
  {
   "cell_type": "code",
   "execution_count": null,
   "id": "f4530871-78c0-457f-bb9d-38a36961ddd2",
   "metadata": {},
   "outputs": [],
   "source": [
    "snow17_swe = {\n",
    "    cz.zone: Swe(snow17_db, cz.ch5_id + 'H', cz.zone).dataframe for cz in target_zones\n",
    "}"
   ]
  },
  {
   "cell_type": "markdown",
   "id": "f9476951-0e7a-4317-8775-e334371847fd",
   "metadata": {},
   "source": [
    "# TODO - Refactor to accomodate SWE from DB"
   ]
  },
  {
   "cell_type": "code",
   "execution_count": null,
   "id": "0e14c821-d36f-4745-9d41-3feecdf6ec4e",
   "metadata": {},
   "outputs": [],
   "source": [
    "plot = compare_peak_swe(\n",
    "    peak_swe_for_pd(s17_swe.csv), \n",
    "    peak_swe_for_swann(swann_xr, target_zones, zone_db) \n",
    ")"
   ]
  },
  {
   "cell_type": "code",
   "execution_count": null,
   "id": "a066fa05-fb38-4412-9294-326fecf7c34f",
   "metadata": {},
   "outputs": [],
   "source": [
    "ZonePlotter.show_all(plot, 1)"
   ]
  },
  {
   "cell_type": "code",
   "execution_count": null,
   "id": "eb392fb2-fdde-4a64-b373-db3847cc5e85",
   "metadata": {},
   "outputs": [],
   "source": [
    "ZonePlotter.save_html(HTML_OUTPUT + 'blue_peak_SWE', plot, 1)"
   ]
  },
  {
   "cell_type": "code",
   "execution_count": null,
   "id": "b761b647-ddfb-4e0d-bb3f-971af2a86824",
   "metadata": {},
   "outputs": [],
   "source": [
    "cluster.shutdown()"
   ]
  },
  {
   "cell_type": "code",
   "execution_count": null,
   "id": "291531f6-409a-44a6-8ae5-896e6b35114e",
   "metadata": {},
   "outputs": [],
   "source": []
  }
 ],
 "metadata": {
  "kernelspec": {
   "display_name": "snow-viz",
   "language": "python",
   "name": "snow-viz"
  },
  "language_info": {
   "codemirror_mode": {
    "name": "ipython",
    "version": 3
   },
   "file_extension": ".py",
   "mimetype": "text/x-python",
   "name": "python",
   "nbconvert_exporter": "python",
   "pygments_lexer": "ipython3",
   "version": "3.12.4"
  }
 },
 "nbformat": 4,
 "nbformat_minor": 5
}
