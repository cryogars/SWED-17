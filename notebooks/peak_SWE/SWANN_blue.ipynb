{
 "cells": [
  {
   "cell_type": "code",
   "execution_count": null,
   "id": "27b54c4a-05cc-4292-8676-3e9d3e4d3273",
   "metadata": {},
   "outputs": [],
   "source": [
    "from nb_shared import *"
   ]
  },
  {
   "cell_type": "markdown",
   "id": "1498c828-ad71-4423-b24d-ff845b65d40e",
   "metadata": {},
   "source": [
    "### Cluster for batch processing"
   ]
  },
  {
   "cell_type": "markdown",
   "id": "ce1fe001-2556-4192-b77b-2a1a00941cb2",
   "metadata": {
    "editable": true,
    "slideshow": {
     "slide_type": ""
    },
    "tags": []
   },
   "source": [
    "cluster = start_cluster(n_workers=20, local=False)"
   ]
  },
  {
   "cell_type": "markdown",
   "id": "3a41f992-5e39-4b35-9c66-452a3b76abf9",
   "metadata": {},
   "source": [
    "## Snow-17 SWE"
   ]
  },
  {
   "cell_type": "code",
   "execution_count": null,
   "id": "12f2ea16-a3e8-45f7-a71b-2fc279152099",
   "metadata": {},
   "outputs": [],
   "source": [
    "s17_swe = Snow17SWE(\n",
    "    SWE_HOME_DIR + 'CBRFC_Blue_1981_2020_SWE_inches.csv',\n",
    ")\n",
    "\n",
    "target_zones = list(s17_swe.csv.columns)\n",
    "target_zones"
   ]
  },
  {
   "cell_type": "markdown",
   "id": "3b48cfa7-5835-4f41-90ab-78b8424eedb5",
   "metadata": {},
   "source": [
    "## SWANN for CBRFC zone"
   ]
  },
  {
   "cell_type": "markdown",
   "id": "14665272-615a-4af5-961c-6215e1188093",
   "metadata": {},
   "source": [
    "zone_db = ZoneDB(DB_CONNECTION_INFO)\n",
    "swann_xr = xr.open_mfdataset(SWANN_HOME_DIR + '*.nc', parallel=True)"
   ]
  },
  {
   "cell_type": "markdown",
   "id": "36bb7897-cfef-4aac-9085-8c5931c5cc2f",
   "metadata": {},
   "source": [
    "# Get peak SWE for each year"
   ]
  },
  {
   "cell_type": "code",
   "execution_count": null,
   "id": "fe33e98e-a9d9-4019-a3e8-c31fd1de1274",
   "metadata": {},
   "outputs": [],
   "source": [
    "peak_SWE = peak_swe_for_pd(s17_swe.csv)\n",
    "\n",
    "plot_peak_swe_pd(peak_SWE, \"Snow-17 Peak SWE\")"
   ]
  },
  {
   "cell_type": "markdown",
   "id": "cf253b0a-bf9e-4a19-9413-89b42b6730b1",
   "metadata": {},
   "source": [
    "cluster.shutdown()"
   ]
  }
 ],
 "metadata": {
  "kernelspec": {
   "display_name": "snow-viz",
   "language": "python",
   "name": "snow-viz"
  },
  "language_info": {
   "codemirror_mode": {
    "name": "ipython",
    "version": 3
   },
   "file_extension": ".py",
   "mimetype": "text/x-python",
   "name": "python",
   "nbconvert_exporter": "python",
   "pygments_lexer": "ipython3",
   "version": "3.12.3"
  }
 },
 "nbformat": 4,
 "nbformat_minor": 5
}
